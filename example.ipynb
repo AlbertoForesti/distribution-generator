{
 "cells": [
  {
   "cell_type": "code",
   "execution_count": 1,
   "metadata": {},
   "outputs": [
    {
     "name": "stderr",
     "output_type": "stream",
     "text": [
      "Best fitness: -0.028042964522112857:   0%|          | 0/100 [00:00<?, ?it/s]"
     ]
    },
    {
     "name": "stderr",
     "output_type": "stream",
     "text": [
      "Best fitness: -0.005577699510922796: 100%|██████████| 100/100 [00:01<00:00, 81.00it/s] \n"
     ]
    }
   ],
   "source": [
    "from distribution_generator.evolution_lib import EvolutionTask\n",
    "\n",
    "task = EvolutionTask(0.5,2,2)\n",
    "task.train()\n",
    "best_dist = task.best_agent.distribution\n",
    "print(best_dist)"
   ]
  }
 ],
 "metadata": {
  "kernelspec": {
   "display_name": "base",
   "language": "python",
   "name": "python3"
  },
  "language_info": {
   "codemirror_mode": {
    "name": "ipython",
    "version": 3
   },
   "file_extension": ".py",
   "mimetype": "text/x-python",
   "name": "python",
   "nbconvert_exporter": "python",
   "pygments_lexer": "ipython3",
   "version": "3.12.2"
  }
 },
 "nbformat": 4,
 "nbformat_minor": 2
}
