{
 "cells": [
  {
   "cell_type": "code",
   "execution_count": 1,
   "metadata": {},
   "outputs": [
    {
     "name": "stderr",
     "output_type": "stream",
     "text": [
      "  0%|          | 0/300 [00:00<?, ?it/s]"
     ]
    },
    {
     "ename": "AttributeError",
     "evalue": "'EvolutionTask' object has no attribute 'calculate_mutual_information'",
     "output_type": "error",
     "traceback": [
      "\u001b[0;31m---------------------------------------------------------------------------\u001b[0m",
      "\u001b[0;31mAttributeError\u001b[0m                            Traceback (most recent call last)",
      "Cell \u001b[0;32mIn[1], line 5\u001b[0m\n\u001b[1;32m      1\u001b[0m \u001b[38;5;28;01mfrom\u001b[39;00m \u001b[38;5;21;01mdistribution_generator\u001b[39;00m\u001b[38;5;21;01m.\u001b[39;00m\u001b[38;5;21;01mdistributions\u001b[39;00m \u001b[38;5;28;01mimport\u001b[39;00m get_rv\n\u001b[1;32m      3\u001b[0m mutinfo \u001b[38;5;241m=\u001b[39m \u001b[38;5;241m0.3\u001b[39m\n\u001b[0;32m----> 5\u001b[0m rv \u001b[38;5;241m=\u001b[39m \u001b[43mget_rv\u001b[49m\u001b[43m(\u001b[49m\u001b[43mmutinfo\u001b[49m\u001b[43m,\u001b[49m\u001b[38;5;241;43m2\u001b[39;49m\u001b[43m,\u001b[49m\u001b[38;5;241;43m2\u001b[39;49m\u001b[43m,\u001b[49m\u001b[43mn_generations\u001b[49m\u001b[38;5;241;43m=\u001b[39;49m\u001b[38;5;241;43m300\u001b[39;49m\u001b[43m,\u001b[49m\u001b[43m \u001b[49m\u001b[43mmin_val\u001b[49m\u001b[38;5;241;43m=\u001b[39;49m\u001b[38;5;241;43m1e-2\u001b[39;49m\u001b[43m)\u001b[49m\n\u001b[1;32m      6\u001b[0m \u001b[38;5;28mprint\u001b[39m(rv\u001b[38;5;241m.\u001b[39mjoint_dist)\n\u001b[1;32m      7\u001b[0m rv2 \u001b[38;5;241m=\u001b[39m get_rv(mutinfo,\u001b[38;5;241m2\u001b[39m,\u001b[38;5;241m2\u001b[39m,n_generations\u001b[38;5;241m=\u001b[39m\u001b[38;5;241m300\u001b[39m, min_val\u001b[38;5;241m=\u001b[39m\u001b[38;5;241m1e-2\u001b[39m)\n",
      "File \u001b[0;32m~/distribution-generator/distribution_generator/distributions.py:78\u001b[0m, in \u001b[0;36mget_rv\u001b[0;34m(mutual_information, dim_x, dim_y, scale, loc, mean, cov, strategy, mu, population_size, n_generations, min_val, force_retrain)\u001b[0m\n\u001b[1;32m     76\u001b[0m \u001b[38;5;28;01massert\u001b[39;00m mutual_information \u001b[38;5;241m<\u001b[39m\u001b[38;5;241m=\u001b[39m \u001b[38;5;28mmin\u001b[39m(np\u001b[38;5;241m.\u001b[39mlog(dim_x), np\u001b[38;5;241m.\u001b[39mlog(dim_y)), \u001b[38;5;124mf\u001b[39m\u001b[38;5;124m\"\u001b[39m\u001b[38;5;124mMutual information is too high for the given dimensions, max is \u001b[39m\u001b[38;5;132;01m{\u001b[39;00m\u001b[38;5;28mmin\u001b[39m(np\u001b[38;5;241m.\u001b[39mlog(dim_x),\u001b[38;5;250m \u001b[39mnp\u001b[38;5;241m.\u001b[39mlog(dim_y))\u001b[38;5;132;01m}\u001b[39;00m\u001b[38;5;124m nats\u001b[39m\u001b[38;5;124m\"\u001b[39m\n\u001b[1;32m     77\u001b[0m \u001b[38;5;28;01massert\u001b[39;00m mutual_information \u001b[38;5;241m>\u001b[39m\u001b[38;5;241m=\u001b[39m \u001b[38;5;241m0\u001b[39m, \u001b[38;5;124m\"\u001b[39m\u001b[38;5;124mMutual information must be non-negative\u001b[39m\u001b[38;5;124m\"\u001b[39m\n\u001b[0;32m---> 78\u001b[0m dist \u001b[38;5;241m=\u001b[39m \u001b[43mdistribution_manager\u001b[49m\u001b[43m(\u001b[49m\u001b[43mmutual_information\u001b[49m\u001b[43m,\u001b[49m\n\u001b[1;32m     79\u001b[0m \u001b[43m                            \u001b[49m\u001b[43mdim_x\u001b[49m\u001b[43m,\u001b[49m\n\u001b[1;32m     80\u001b[0m \u001b[43m                            \u001b[49m\u001b[43mdim_y\u001b[49m\u001b[43m,\u001b[49m\n\u001b[1;32m     81\u001b[0m \u001b[43m                            \u001b[49m\u001b[43mscale\u001b[49m\u001b[43m,\u001b[49m\n\u001b[1;32m     82\u001b[0m \u001b[43m                            \u001b[49m\u001b[43mloc\u001b[49m\u001b[43m,\u001b[49m\n\u001b[1;32m     83\u001b[0m \u001b[43m                            \u001b[49m\u001b[43mmean\u001b[49m\u001b[43m,\u001b[49m\n\u001b[1;32m     84\u001b[0m \u001b[43m                            \u001b[49m\u001b[43mcov\u001b[49m\u001b[43m,\u001b[49m\n\u001b[1;32m     85\u001b[0m \u001b[43m                            \u001b[49m\u001b[43mstrategy\u001b[49m\u001b[43m,\u001b[49m\n\u001b[1;32m     86\u001b[0m \u001b[43m                            \u001b[49m\u001b[43mmu\u001b[49m\u001b[43m,\u001b[49m\n\u001b[1;32m     87\u001b[0m \u001b[43m                            \u001b[49m\u001b[43mpopulation_size\u001b[49m\u001b[43m,\u001b[49m\n\u001b[1;32m     88\u001b[0m \u001b[43m                            \u001b[49m\u001b[43mn_generations\u001b[49m\u001b[43m,\u001b[49m\n\u001b[1;32m     89\u001b[0m \u001b[43m                            \u001b[49m\u001b[43mmin_val\u001b[49m\u001b[43m,\u001b[49m\n\u001b[1;32m     90\u001b[0m \u001b[43m                            \u001b[49m\u001b[43mforce_retrain\u001b[49m\u001b[43m)\u001b[49m\n\u001b[1;32m     91\u001b[0m custom_rv \u001b[38;5;241m=\u001b[39m JointDiscrete(dist)\n\u001b[1;32m     92\u001b[0m \u001b[38;5;28;01mreturn\u001b[39;00m custom_rv\n",
      "File \u001b[0;32m~/distribution-generator/distribution_generator/distributions.py:30\u001b[0m, in \u001b[0;36mDistributionManager.__call__\u001b[0;34m(self, mutual_information, dim_x, dim_y, scale, loc, mean, cov, strategy, mu, population_size, n_generations, min_val, force_retrain)\u001b[0m\n\u001b[1;32m     28\u001b[0m \u001b[38;5;28mself\u001b[39m\u001b[38;5;241m.\u001b[39mdistribution_config \u001b[38;5;241m=\u001b[39m DistributionConfig(mutual_information, dim_x, dim_y, min_val)\n\u001b[1;32m     29\u001b[0m \u001b[38;5;28mself\u001b[39m\u001b[38;5;241m.\u001b[39mevolution_task \u001b[38;5;241m=\u001b[39m EvolutionTask(mutual_information, dim_x, dim_y, scale, loc, mean, cov, strategy, mu, population_size, min_val)\n\u001b[0;32m---> 30\u001b[0m \u001b[38;5;28;43mself\u001b[39;49m\u001b[38;5;241;43m.\u001b[39;49m\u001b[43mevolution_task\u001b[49m\u001b[38;5;241;43m.\u001b[39;49m\u001b[43mtrain\u001b[49m\u001b[43m(\u001b[49m\u001b[43mn_generations\u001b[49m\u001b[43m)\u001b[49m\n\u001b[1;32m     31\u001b[0m \u001b[38;5;28mself\u001b[39m\u001b[38;5;241m.\u001b[39mdistribution \u001b[38;5;241m=\u001b[39m \u001b[38;5;28mself\u001b[39m\u001b[38;5;241m.\u001b[39mevolution_task\u001b[38;5;241m.\u001b[39mbest_agent\u001b[38;5;241m.\u001b[39mdistribution\n\u001b[1;32m     32\u001b[0m \u001b[38;5;28;01mreturn\u001b[39;00m \u001b[38;5;28mself\u001b[39m\u001b[38;5;241m.\u001b[39mdistribution\n",
      "File \u001b[0;32m~/distribution-generator/distribution_generator/evolution_lib.py:239\u001b[0m, in \u001b[0;36mEvolutionTask.train\u001b[0;34m(self, n_generations, temperature, exploitation_only)\u001b[0m\n\u001b[1;32m    237\u001b[0m \u001b[38;5;28mself\u001b[39m\u001b[38;5;241m.\u001b[39mbest_agent \u001b[38;5;241m=\u001b[39m \u001b[38;5;28;01mNone\u001b[39;00m\n\u001b[1;32m    238\u001b[0m pbar \u001b[38;5;241m=\u001b[39m tqdm(\u001b[38;5;28mrange\u001b[39m(n_generations))\n\u001b[0;32m--> 239\u001b[0m \u001b[38;5;28;43mself\u001b[39;49m\u001b[38;5;241;43m.\u001b[39;49m\u001b[43mcompute_fitness\u001b[49m\u001b[43m(\u001b[49m\u001b[43m)\u001b[49m\n\u001b[1;32m    240\u001b[0m \u001b[38;5;28;01mfor\u001b[39;00m gen \u001b[38;5;129;01min\u001b[39;00m pbar:            \n\u001b[1;32m    241\u001b[0m     \u001b[38;5;28mself\u001b[39m\u001b[38;5;241m.\u001b[39mbest_agent \u001b[38;5;241m=\u001b[39m \u001b[38;5;28mmax\u001b[39m(\u001b[38;5;28mself\u001b[39m\u001b[38;5;241m.\u001b[39magents, key \u001b[38;5;241m=\u001b[39m \u001b[38;5;28;01mlambda\u001b[39;00m x: x\u001b[38;5;241m.\u001b[39mfitness)\n",
      "File \u001b[0;32m~/distribution-generator/distribution_generator/evolution_lib.py:207\u001b[0m, in \u001b[0;36mEvolutionTask.compute_fitness\u001b[0;34m(self)\u001b[0m\n\u001b[1;32m    205\u001b[0m \u001b[38;5;28;01mdef\u001b[39;00m \u001b[38;5;21mcompute_fitness\u001b[39m(\u001b[38;5;28mself\u001b[39m) \u001b[38;5;241m-\u001b[39m\u001b[38;5;241m>\u001b[39m \u001b[38;5;28;01mNone\u001b[39;00m:\n\u001b[1;32m    206\u001b[0m     \u001b[38;5;28;01mfor\u001b[39;00m agent \u001b[38;5;129;01min\u001b[39;00m \u001b[38;5;28mself\u001b[39m\u001b[38;5;241m.\u001b[39magents:\n\u001b[0;32m--> 207\u001b[0m         agent\u001b[38;5;241m.\u001b[39mfitness \u001b[38;5;241m=\u001b[39m \u001b[38;5;28;43mself\u001b[39;49m\u001b[38;5;241;43m.\u001b[39;49m\u001b[43mfitness\u001b[49m\u001b[43m(\u001b[49m\u001b[43magent\u001b[49m\u001b[43m)\u001b[49m\n",
      "File \u001b[0;32m~/distribution-generator/distribution_generator/evolution_lib.py:164\u001b[0m, in \u001b[0;36mEvolutionTask.fitness\u001b[0;34m(self, agent)\u001b[0m\n\u001b[1;32m    163\u001b[0m \u001b[38;5;28;01mdef\u001b[39;00m \u001b[38;5;21mfitness\u001b[39m(\u001b[38;5;28mself\u001b[39m, agent: Agent) \u001b[38;5;241m-\u001b[39m\u001b[38;5;241m>\u001b[39m \u001b[38;5;28mfloat\u001b[39m:\n\u001b[0;32m--> 164\u001b[0m     m_info \u001b[38;5;241m=\u001b[39m \u001b[38;5;28;43mself\u001b[39;49m\u001b[38;5;241;43m.\u001b[39;49m\u001b[43mcalculate_mutual_information\u001b[49m(agent\u001b[38;5;241m.\u001b[39mdistribution)\n\u001b[1;32m    165\u001b[0m     \u001b[38;5;28;01mif\u001b[39;00m m_info \u001b[38;5;241m==\u001b[39m np\u001b[38;5;241m.\u001b[39mnan:\n\u001b[1;32m    166\u001b[0m         \u001b[38;5;28mprint\u001b[39m(\u001b[38;5;124m\"\u001b[39m\u001b[38;5;124mMutinfo is nan\u001b[39m\u001b[38;5;124m\"\u001b[39m, m_info)\n",
      "\u001b[0;31mAttributeError\u001b[0m: 'EvolutionTask' object has no attribute 'calculate_mutual_information'"
     ]
    }
   ],
   "source": [
    "from distribution_generator.distributions import get_rv\n",
    "\n",
    "mutinfo = 0.3\n",
    "\n",
    "rv = get_rv(mutinfo,2,2,n_generations=300, min_val=1e-2)\n",
    "print(rv.joint_dist)\n",
    "rv2 = get_rv(mutinfo,2,2,n_generations=300, min_val=1e-2)\n",
    "print(rv2.joint_dist)"
   ]
  },
  {
   "cell_type": "code",
   "execution_count": 2,
   "metadata": {},
   "outputs": [
    {
     "name": "stdout",
     "output_type": "stream",
     "text": [
      "[[0 1]\n",
      " [0 1]\n",
      " [0 1]\n",
      " [1 1]\n",
      " [1 0]\n",
      " [1 1]\n",
      " [0 1]\n",
      " [1 0]\n",
      " [0 1]\n",
      " [0 1]]\n"
     ]
    }
   ],
   "source": [
    "samples = rv.rvs(size=1000)\n",
    "print(samples[:10])"
   ]
  },
  {
   "cell_type": "code",
   "execution_count": 4,
   "metadata": {},
   "outputs": [
    {
     "name": "stdout",
     "output_type": "stream",
     "text": [
      "0.2590839288684114\n",
      "0.20072102883245946\n",
      "1.127210432251479\n"
     ]
    }
   ],
   "source": [
    "import numpy as np\n",
    "\n",
    "dist = np.array([[0.37513464, 0.24989916],\n",
    " [0.00970874, 0.36525746]])\n",
    "\n",
    "# compute kl with uniform distribution\n",
    "\n",
    "kl = np.sum(dist * np.log(dist / np.array([[0.25,0.25],[0.25,0.25]])))\n",
    "print(kl)\n",
    "\n",
    "# compute mutinfo\n",
    "px = np.sum(dist, axis=1)\n",
    "py = np.sum(dist, axis=0)\n",
    "mutinfo = 0\n",
    "for i in range(2):\n",
    "    for j in range(2):\n",
    "        mutinfo += dist[i,j] * np.log(dist[i,j] / (px[i] * py[j]))\n",
    "print(mutinfo)\n",
    "\n",
    "# compute entropy\n",
    "dist = dist.flatten()\n",
    "entropy = -np.sum(dist * np.log(dist))\n",
    "print(entropy)"
   ]
  },
  {
   "cell_type": "code",
   "execution_count": 9,
   "metadata": {},
   "outputs": [
    {
     "name": "stdout",
     "output_type": "stream",
     "text": [
      "1.7144210650734781\n"
     ]
    }
   ],
   "source": [
    "from scipy.stats import binom\n",
    "import numpy as np\n",
    "\n",
    "# Parameters for the binomial distribution\n",
    "n = 10  # number of trials\n",
    "p = 0.25  # probability of success\n",
    "\n",
    "# Create a binomial distribution\n",
    "binom_dist = binom(n, p)\n",
    "\n",
    "# Calculate the probabilities of each possible outcome\n",
    "probabilities = binom_dist.pmf(np.arange(n + 1))\n",
    "\n",
    "# Calculate the entropy\n",
    "entropy_binom = -np.sum(probabilities * np.log(probabilities))\n",
    "print(entropy_binom)"
   ]
  }
 ],
 "metadata": {
  "kernelspec": {
   "display_name": "minde",
   "language": "python",
   "name": "python3"
  },
  "language_info": {
   "codemirror_mode": {
    "name": "ipython",
    "version": 3
   },
   "file_extension": ".py",
   "mimetype": "text/x-python",
   "name": "python",
   "nbconvert_exporter": "python",
   "pygments_lexer": "ipython3",
   "version": "3.12.5"
  }
 },
 "nbformat": 4,
 "nbformat_minor": 2
}
