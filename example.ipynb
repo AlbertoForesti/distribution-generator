{
 "cells": [
  {
   "cell_type": "code",
   "execution_count": 1,
   "metadata": {},
   "outputs": [
    {
     "name": "stderr",
     "output_type": "stream",
     "text": [
      "Best fitness: -3.651473764398894e-05: 100%|██████████| 300/300 [00:03<00:00, 98.77it/s]  "
     ]
    },
    {
     "name": "stdout",
     "output_type": "stream",
     "text": [
      "[[0.15018451 0.48907359]\n",
      " [0.35103317 0.00970874]]\n",
      "[[0.15018451 0.48907359]\n",
      " [0.35103317 0.00970874]]\n"
     ]
    },
    {
     "name": "stderr",
     "output_type": "stream",
     "text": [
      "\n"
     ]
    }
   ],
   "source": [
    "from distribution_generator.distributions import get_rv\n",
    "\n",
    "mutinfo = 0.3\n",
    "\n",
    "rv = get_rv(mutinfo,2,2,n_generations=300, min_val=1e-2)\n",
    "print(rv.joint_dist)\n",
    "rv2 = get_rv(mutinfo,2,2,n_generations=300, min_val=1e-2)\n",
    "print(rv2.joint_dist)"
   ]
  },
  {
   "cell_type": "code",
   "execution_count": 2,
   "metadata": {},
   "outputs": [
    {
     "name": "stdout",
     "output_type": "stream",
     "text": [
      "[[1 0]\n",
      " [0 1]\n",
      " [1 0]\n",
      " [0 1]\n",
      " [1 0]\n",
      " [0 1]\n",
      " [0 1]\n",
      " [1 0]\n",
      " [1 0]\n",
      " [0 0]]\n"
     ]
    }
   ],
   "source": [
    "samples = rv.rvs(size=1000)\n",
    "print(samples[:10])"
   ]
  },
  {
   "cell_type": "code",
   "execution_count": 3,
   "metadata": {},
   "outputs": [
    {
     "name": "stdout",
     "output_type": "stream",
     "text": [
      "0.3030525444939357\n",
      "0.19992552028930294\n",
      "1.0832418172417468\n"
     ]
    }
   ],
   "source": [
    "import numpy as np\n",
    "\n",
    "dist = np.array([[4.18143636e-01, 2.35034442e-05],\n",
    " [2.90373778e-01, 2.91459083e-01]])\n",
    "\n",
    "# compute kl with uniform distribution\n",
    "\n",
    "kl = np.sum(dist * np.log(dist / np.array([[0.25,0.25],[0.25,0.25]])))\n",
    "print(kl)\n",
    "\n",
    "# compute mutinfo\n",
    "px = np.sum(dist, axis=1)\n",
    "py = np.sum(dist, axis=0)\n",
    "mutinfo = 0\n",
    "for i in range(2):\n",
    "    for j in range(2):\n",
    "        mutinfo += dist[i,j] * np.log(dist[i,j] / (px[i] * py[j]))\n",
    "print(mutinfo)\n",
    "\n",
    "# compute entropy\n",
    "dist = dist.flatten()\n",
    "entropy = -np.sum(dist * np.log(dist))\n",
    "print(entropy)"
   ]
  }
 ],
 "metadata": {
  "kernelspec": {
   "display_name": "minde",
   "language": "python",
   "name": "python3"
  },
  "language_info": {
   "codemirror_mode": {
    "name": "ipython",
    "version": 3
   },
   "file_extension": ".py",
   "mimetype": "text/x-python",
   "name": "python",
   "nbconvert_exporter": "python",
   "pygments_lexer": "ipython3",
   "version": "3.12.5"
  }
 },
 "nbformat": 4,
 "nbformat_minor": 2
}
