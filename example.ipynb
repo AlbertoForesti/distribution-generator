{
 "cells": [
  {
   "cell_type": "code",
   "execution_count": 22,
   "metadata": {},
   "outputs": [
    {
     "name": "stderr",
     "output_type": "stream",
     "text": [
      "Best fitness: -4.9412391934372524e-05: 100%|██████████| 300/300 [00:03<00:00, 98.88it/s] \n",
      "Best fitness: -4.497773622313961e-05: 100%|██████████| 300/300 [00:02<00:00, 103.16it/s] \n",
      "Best fitness: -8.491761425662159e-05: 100%|██████████| 300/300 [00:02<00:00, 107.18it/s] \n",
      "Best fitness: -5.0284306301329185e-06: 100%|██████████| 300/300 [00:02<00:00, 103.45it/s]\n",
      "Best fitness: -6.539914952086168e-05: 100%|██████████| 300/300 [00:04<00:00, 73.27it/s] \n",
      "Best fitness: -0.00016387107811219326: 100%|██████████| 300/300 [00:02<00:00, 107.97it/s]\n",
      "Best fitness: -8.040459390734611e-06: 100%|██████████| 300/300 [00:04<00:00, 71.30it/s]  \n",
      "Best fitness: -0.0001531102191805328: 100%|██████████| 300/300 [00:02<00:00, 108.47it/s] \n",
      "Best fitness: -0.00031297679625613695: 100%|██████████| 300/300 [00:04<00:00, 72.36it/s] \n",
      "Best fitness: -5.5859817061049144e-05: 100%|██████████| 300/300 [00:02<00:00, 109.70it/s]\n"
     ]
    },
    {
     "name": "stdout",
     "output_type": "stream",
     "text": [
      "[[3.21176381e-07 2.47210972e-07 4.14428457e-07 ... 8.64376900e-07\n",
      "  1.44905536e-06 1.11534473e-06]\n",
      " [2.34912349e-07 7.87548727e-09 3.03118062e-07 ... 2.75367603e-08\n",
      "  1.05985689e-06 3.55319312e-08]\n",
      " [1.01474590e-08 7.81054696e-09 2.99435982e-07 ... 2.73096955e-08\n",
      "  1.04698244e-06 8.05867308e-07]\n",
      " ...\n",
      " [2.29406754e-13 7.69091102e-15 2.96013943e-13 ... 7.66618319e-09\n",
      "  2.95062199e-07 9.89202400e-09]\n",
      " [9.90963500e-15 7.62749270e-15 2.92418159e-13 ... 7.60296877e-09\n",
      "  2.91477976e-07 2.24351970e-07]\n",
      " [7.24802873e-15 2.42991730e-16 2.13878232e-13 ... 2.42210462e-10\n",
      "  2.13190571e-07 7.14725997e-09]]\n",
      "11.303978604316143\n",
      "0.9995904396324053\n"
     ]
    }
   ],
   "source": [
    "from distribution_generator.distributions import get_rv\n",
    "\n",
    "mutinfo = 1.0\n",
    "\n",
    "rv = get_rv(mutinfo,2,2,10,10,n_generations=300, min_val=1e-2)\n",
    "print(rv.joint_dist)\n",
    "rv2 = get_rv(mutinfo,2,2,10,10,n_generations=300, min_val=1e-2)\n",
    "x,y = rv2.rvs(size=10000)\n",
    "print(rv2.entropy)\n",
    "print(rv2.mutual_information)"
   ]
  },
  {
   "cell_type": "code",
   "execution_count": 21,
   "metadata": {},
   "outputs": [
    {
     "name": "stdout",
     "output_type": "stream",
     "text": [
      "(10000, 1, 10)\n"
     ]
    }
   ],
   "source": [
    "print(x.shape)"
   ]
  },
  {
   "cell_type": "code",
   "execution_count": 17,
   "metadata": {},
   "outputs": [
    {
     "name": "stdout",
     "output_type": "stream",
     "text": [
      "[[9847 9389]\n",
      " [9293 9821]]\n"
     ]
    },
    {
     "data": {
      "text/plain": [
       "<matplotlib.image.AxesImage at 0x7f6841050380>"
      ]
     },
     "execution_count": 17,
     "metadata": {},
     "output_type": "execute_result"
    },
    {
     "data": {
      "image/png": "[encoded data removed]",
      "text/plain": [
       "<Figure size 640x480 with 1 Axes>"
      ]
     },
     "metadata": {},
     "output_type": "display_data"
    }
   ],
   "source": [
    "import numpy as np\n",
    "from matplotlib import pyplot as plt\n",
    "\n",
    "# Count Occurrences of Each Sample\n",
    "\n",
    "samples = np.concatenate([x,y],axis=1)\n",
    "\n",
    "grid = np.array([[0,0],[0,0]])\n",
    "tot = 0\n",
    "\n",
    "for sample in samples:\n",
    "    grid[sample[0],sample[1]] += 1\n",
    "    tot += 1\n",
    "\n",
    "print(grid)\n",
    "\n",
    "plt.imshow(grid, cmap='hot', interpolation='nearest', origin='lower')"
   ]
  },
  {
   "cell_type": "code",
   "execution_count": 18,
   "metadata": {},
   "outputs": [
    {
     "name": "stdout",
     "output_type": "stream",
     "text": [
      "0.2590839288684114\n",
      "0.20072102883245946\n",
      "1.127210432251479\n"
     ]
    }
   ],
   "source": [
    "import numpy as np\n",
    "\n",
    "dist = np.array([[0.37513464, 0.24989916],\n",
    " [0.00970874, 0.36525746]])\n",
    "\n",
    "# compute kl with uniform distribution\n",
    "\n",
    "kl = np.sum(dist * np.log(dist / np.array([[0.25,0.25],[0.25,0.25]])))\n",
    "print(kl)\n",
    "\n",
    "# compute mutinfo\n",
    "px = np.sum(dist, axis=1)\n",
    "py = np.sum(dist, axis=0)\n",
    "mutinfo = 0\n",
    "for i in range(2):\n",
    "    for j in range(2):\n",
    "        mutinfo += dist[i,j] * np.log(dist[i,j] / (px[i] * py[j]))\n",
    "print(mutinfo)\n",
    "\n",
    "# compute entropy\n",
    "dist = dist.flatten()\n",
    "entropy = -np.sum(dist * np.log(dist))\n",
    "print(entropy)"
   ]
  },
  {
   "cell_type": "code",
   "execution_count": 19,
   "metadata": {},
   "outputs": [
    {
     "name": "stdout",
     "output_type": "stream",
     "text": [
      "1.7144210650734781\n"
     ]
    }
   ],
   "source": [
    "from scipy.stats import binom\n",
    "import numpy as np\n",
    "\n",
    "# Parameters for the binomial distribution\n",
    "n = 10  # number of trials\n",
    "p = 0.25  # probability of success\n",
    "\n",
    "# Create a binomial distribution\n",
    "binom_dist = binom(n, p)\n",
    "\n",
    "# Calculate the probabilities of each possible outcome\n",
    "probabilities = binom_dist.pmf(np.arange(n + 1))\n",
    "\n",
    "# Calculate the entropy\n",
    "entropy_binom = -np.sum(probabilities * np.log(probabilities))\n",
    "print(entropy_binom)"
   ]
  }
 ],
 "metadata": {
  "kernelspec": {
   "display_name": "base",
   "language": "python",
   "name": "python3"
  },
  "language_info": {
   "codemirror_mode": {
    "name": "ipython",
    "version": 3
   },
   "file_extension": ".py",
   "mimetype": "text/x-python",
   "name": "python",
   "nbconvert_exporter": "python",
   "pygments_lexer": "ipython3",
   "version": "3.12.2"
  }
 },
 "nbformat": 4,
 "nbformat_minor": 2
}
