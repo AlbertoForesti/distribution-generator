{
 "cells": [
  {
   "cell_type": "code",
   "execution_count": 5,
   "metadata": {},
   "outputs": [
    {
     "name": "stdout",
     "output_type": "stream",
     "text": [
      "[[0.25246123 0.00970874]\n",
      " [0.22052224 0.51730779]]\n",
      "[[0.25246123 0.00970874]\n",
      " [0.22052224 0.51730779]]\n"
     ]
    }
   ],
   "source": [
    "from distribution_generator.distributions import get_rv\n",
    "\n",
    "mutinfo = 0.2\n",
    "\n",
    "rv = get_rv(mutinfo,2,2,n_generations=300, min_val=1e-2)\n",
    "print(rv.joint_dist)\n",
    "rv2 = get_rv(mutinfo,2,2,n_generations=300, min_val=1e-2)\n",
    "print(rv2.joint_dist)"
   ]
  },
  {
   "cell_type": "code",
   "execution_count": 9,
   "metadata": {},
   "outputs": [
    {
     "name": "stdout",
     "output_type": "stream",
     "text": [
      "[0 1 1 1 0 1 1 1 0 0 0 0 1 1 0 1 0 1 0 1 1 0 0 0 1 0 0 0 0 0 1 1 1 0 1 0 1\n",
      " 1 0 1 0 1 1 1 0 1 0 0 1 0 0 1 1 1 0 1 0 0 0 0 1 1 1 0 1 0 1 1 1 1 1 1 0 0\n",
      " 1 1 1 0 0 0 0 1 1 1 1 1 1 1 1 0 0 1 1 0 1 0 1 1 1 1 0 0 0 0 1 1 1 0 1 1 1\n",
      " 0 0 0 1 0 0 1 0 1 0 1 1 1 1 0 1 0 1 1 0 0 0 0 1 0 1 0 1 1 1 0 0 0 1 1 1 1\n",
      " 0 0 1 1 1 1 1 1 0 1 1 0 1 1 0 1 0 0 1 1 1 0 1 0 1 0 1 0 0 0 1 1 1 1 1 0 0\n",
      " 0 0 0 0 0 1 0 1 1 1 0 0 1 0 0 0 1 0 1 0 0 0 1 1 1 1 0 1 1 0 0 1 1 0 1 0 1\n",
      " 0 0 0 0 0 0 0 0 0 0 1 1 1 1 0 0 0 1 0 1 0 0 0 0 0 0 1 0 1 1 1 1 0 1 1 0 1\n",
      " 1 0 1 0 1 0 0 1 1 1 0 1 1 1 1 1 1 0 1 0 1 0 1 1 0 0 0 0 1 1 1 0 1 1 1 1 0\n",
      " 1 1 0 1 1 1 1 0 0 0 0 1 1 1 0 0 1 0 1 1 0 0 1 1 0 1 1 0 1 1 0 1 0 1 1 0 0\n",
      " 0 0 1 1 1 0 0 1 0 1 0 1 0 1 0 0 0 0 1 0 0 1 1 0 1 0 0 0 0 0 1 0 0 0 1 0 0\n",
      " 0 0 1 1 0 1 1 0 0 1 1 1 0 1 0 1 0 1 0 0 1 1 1 1 1 1 0 1 1 1 0 0 0 0 0 0 0\n",
      " 0 1 1 0 0 1 0 0 0 1 0 1 1 0 0 0 0 0 1 1 0 0 0 1 1 1 1 1 1 1 0 1 1 1 0 0 1\n",
      " 1 1 0 0 0 1 1 0 1 1 0 1 0 1 1 1 0 0 0 1 1 0 1 0 0 0 0 0 1 0 1 1 0 1 0 0 0\n",
      " 1 0 1 1 0 0 1 0 0 0 0 1 0 0 0 1 1 0 0 0 0 1 0 1 0 0 1 0 1 0 0 0 0 0 1 1 1\n",
      " 0 1 0 1 1 0 1 1 1 1 0 1 1 0 0 0 1 0 0 1 1 0 1 0 0 0 1 1 0 1 1 0 1 1 0 1 1\n",
      " 1 0 0 0 1 0 0 0 0 0 1 0 0 1 0 1 1 1 0 1 0 0 0 0 1 1 0 1 0 1 0 1 1 1 1 1 0\n",
      " 1 1 1 1 1 0 0 0 0 1 1 1 0 0 1 1 0 1 1 0 1 1 1 1 0 1 1 0 1 0 1 1 0 0 1 0 1\n",
      " 0 1 1 1 0 0 1 1 1 0 1 0 0 1 0 0 1 0 0 1 0 1 1 0 0 0 0 0 1 0 1 0 1 0 0 1 0\n",
      " 0 1 1 1 0 0 0 1 0 1 1 0 0 1 1 1 0 0 0 1 1 1 1 1 1 0 0 1 0 0 1 1 0 0 1 0 0\n",
      " 0 1 0 1 0 0 1 1 1 0 0 1 1 1 0 1 1 0 1 1 1 0 1 0 0 1 1 0 0 0 1 0 0 0 1 0 1\n",
      " 1 0 1 0 0 0 0 0 1 0 1 0 1 0 0 1 0 0 1 1 1 1 1 1 1 1 1 1 0 0 0 0 1 0 1 0 0\n",
      " 0 1 1 0 0 1 0 1 1 0 0 1 0 0 0 0 1 1 0 0 1 0 1 1 1 1 1 0 0 1 1 1 0 0 0 0 0\n",
      " 0 0 0 0 0 1 0 1 1 0 1 0 1 1 0 0 0 0 0 0 0 0 1 0 0 1 1 1 0 0 1 1 1 0 1 1 1\n",
      " 0 0 0 0 0 0 0 1 1 1 0 0 0 1 1 0 1 0 1 1 0 1 1 0 0 0 1 1 1 1 0 1 0 1 0 1 1\n",
      " 1 1 1 1 0 1 0 1 0 0 1 1 1 1 0 0 1 1 1 1 1 1 1 1 1 0 1 0 0 0 0 1 1 1 1 0 1\n",
      " 0 0 1 1 0 1 0 1 0 0 1 0 0 1 0 1 1 0 1 0 1 1 1 1 0 0 0 1 1 1 0 1 0 0 0 1 0\n",
      " 0 1 0 1 1 1 1 0 1 0 1 1 0 1 0 0 1 0 1 0 1 1 1 1 1 0 1 1 0 1 0 0 1 1 0 0 0\n",
      " 0]\n"
     ]
    }
   ],
   "source": [
    "samples = rv.rvs(1000)\n",
    "print(samples[1])"
   ]
  },
  {
   "cell_type": "code",
   "execution_count": 10,
   "metadata": {},
   "outputs": [
    {
     "name": "stdout",
     "output_type": "stream",
     "text": [
      "0.2590839288684114\n",
      "0.20072102883245946\n",
      "1.127210432251479\n"
     ]
    }
   ],
   "source": [
    "import numpy as np\n",
    "\n",
    "dist = np.array([[0.37513464, 0.24989916],\n",
    " [0.00970874, 0.36525746]])\n",
    "\n",
    "# compute kl with uniform distribution\n",
    "\n",
    "kl = np.sum(dist * np.log(dist / np.array([[0.25,0.25],[0.25,0.25]])))\n",
    "print(kl)\n",
    "\n",
    "# compute mutinfo\n",
    "px = np.sum(dist, axis=1)\n",
    "py = np.sum(dist, axis=0)\n",
    "mutinfo = 0\n",
    "for i in range(2):\n",
    "    for j in range(2):\n",
    "        mutinfo += dist[i,j] * np.log(dist[i,j] / (px[i] * py[j]))\n",
    "print(mutinfo)\n",
    "\n",
    "# compute entropy\n",
    "dist = dist.flatten()\n",
    "entropy = -np.sum(dist * np.log(dist))\n",
    "print(entropy)"
   ]
  },
  {
   "cell_type": "code",
   "execution_count": 11,
   "metadata": {},
   "outputs": [
    {
     "name": "stdout",
     "output_type": "stream",
     "text": [
      "1.7144210650734781\n"
     ]
    }
   ],
   "source": [
    "from scipy.stats import binom\n",
    "import numpy as np\n",
    "\n",
    "# Parameters for the binomial distribution\n",
    "n = 10  # number of trials\n",
    "p = 0.25  # probability of success\n",
    "\n",
    "# Create a binomial distribution\n",
    "binom_dist = binom(n, p)\n",
    "\n",
    "# Calculate the probabilities of each possible outcome\n",
    "probabilities = binom_dist.pmf(np.arange(n + 1))\n",
    "\n",
    "# Calculate the entropy\n",
    "entropy_binom = -np.sum(probabilities * np.log(probabilities))\n",
    "print(entropy_binom)"
   ]
  }
 ],
 "metadata": {
  "kernelspec": {
   "display_name": "minde",
   "language": "python",
   "name": "python3"
  },
  "language_info": {
   "codemirror_mode": {
    "name": "ipython",
    "version": 3
   },
   "file_extension": ".py",
   "mimetype": "text/x-python",
   "name": "python",
   "nbconvert_exporter": "python",
   "pygments_lexer": "ipython3",
   "version": "3.12.5"
  }
 },
 "nbformat": 4,
 "nbformat_minor": 2
}
