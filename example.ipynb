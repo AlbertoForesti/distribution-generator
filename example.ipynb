{
 "cells": [
  {
   "cell_type": "code",
   "execution_count": 1,
   "metadata": {},
   "outputs": [
    {
     "name": "stderr",
     "output_type": "stream",
     "text": [
      "Best fitness: -2.9503829271776416e-05: 100%|██████████| 300/300 [00:03<00:00, 95.03it/s] \n"
     ]
    },
    {
     "name": "stdout",
     "output_type": "stream",
     "text": [
      "[[0.24874826 0.33714948]\n",
      " [0.40439352 0.00970874]]\n"
     ]
    }
   ],
   "source": [
    "from distribution_generator.distributions import get_rv\n",
    "\n",
    "mutinfo = 0.2\n",
    "\n",
    "rv = get_rv(mutinfo,2,2,n_generations=300, min_val=1e-2)\n",
    "print(rv.joint_dist)\n",
    "rv2 = get_rv(mutinfo,2,2,n_generations=300, min_val=1e-2)\n",
    "x,y = rv2.rvs(size=10000)"
   ]
  },
  {
   "cell_type": "code",
   "execution_count": 2,
   "metadata": {},
   "outputs": [
    {
     "name": "stdout",
     "output_type": "stream",
     "text": [
      "[[2433 3410]\n",
      " [4053  104]]\n"
     ]
    },
    {
     "data": {
      "text/plain": [
       "<matplotlib.image.AxesImage at 0x7f81653ca720>"
      ]
     },
     "execution_count": 2,
     "metadata": {},
     "output_type": "execute_result"
    },
    {
     "data": {
      "image/png": "[encoded data removed]",
      "text/plain": [
       "<Figure size 640x480 with 1 Axes>"
      ]
     },
     "metadata": {},
     "output_type": "display_data"
    }
   ],
   "source": [
    "import numpy as np\n",
    "from matplotlib import pyplot as plt\n",
    "\n",
    "# Count Occurrences of Each Sample\n",
    "\n",
    "samples = np.concatenate([x,y],axis=1)\n",
    "\n",
    "grid = np.array([[0,0],[0,0]])\n",
    "tot = 0\n",
    "\n",
    "for sample in samples:\n",
    "    grid[sample[0],sample[1]] += 1\n",
    "    tot += 1\n",
    "\n",
    "print(grid)\n",
    "\n",
    "plt.imshow(grid, cmap='hot', interpolation='nearest', origin='lower')"
   ]
  },
  {
   "cell_type": "code",
   "execution_count": 3,
   "metadata": {},
   "outputs": [
    {
     "name": "stdout",
     "output_type": "stream",
     "text": [
      "0.2590839288684114\n",
      "0.20072102883245946\n",
      "1.127210432251479\n"
     ]
    }
   ],
   "source": [
    "import numpy as np\n",
    "\n",
    "dist = np.array([[0.37513464, 0.24989916],\n",
    " [0.00970874, 0.36525746]])\n",
    "\n",
    "# compute kl with uniform distribution\n",
    "\n",
    "kl = np.sum(dist * np.log(dist / np.array([[0.25,0.25],[0.25,0.25]])))\n",
    "print(kl)\n",
    "\n",
    "# compute mutinfo\n",
    "px = np.sum(dist, axis=1)\n",
    "py = np.sum(dist, axis=0)\n",
    "mutinfo = 0\n",
    "for i in range(2):\n",
    "    for j in range(2):\n",
    "        mutinfo += dist[i,j] * np.log(dist[i,j] / (px[i] * py[j]))\n",
    "print(mutinfo)\n",
    "\n",
    "# compute entropy\n",
    "dist = dist.flatten()\n",
    "entropy = -np.sum(dist * np.log(dist))\n",
    "print(entropy)"
   ]
  },
  {
   "cell_type": "code",
   "execution_count": 4,
   "metadata": {},
   "outputs": [
    {
     "name": "stdout",
     "output_type": "stream",
     "text": [
      "1.7144210650734781\n"
     ]
    }
   ],
   "source": [
    "from scipy.stats import binom\n",
    "import numpy as np\n",
    "\n",
    "# Parameters for the binomial distribution\n",
    "n = 10  # number of trials\n",
    "p = 0.25  # probability of success\n",
    "\n",
    "# Create a binomial distribution\n",
    "binom_dist = binom(n, p)\n",
    "\n",
    "# Calculate the probabilities of each possible outcome\n",
    "probabilities = binom_dist.pmf(np.arange(n + 1))\n",
    "\n",
    "# Calculate the entropy\n",
    "entropy_binom = -np.sum(probabilities * np.log(probabilities))\n",
    "print(entropy_binom)"
   ]
  }
 ],
 "metadata": {
  "kernelspec": {
   "display_name": "base",
   "language": "python",
   "name": "python3"
  },
  "language_info": {
   "codemirror_mode": {
    "name": "ipython",
    "version": 3
   },
   "file_extension": ".py",
   "mimetype": "text/x-python",
   "name": "python",
   "nbconvert_exporter": "python",
   "pygments_lexer": "ipython3",
   "version": "undefined.undefined.undefined"
  }
 },
 "nbformat": 4,
 "nbformat_minor": 2
}
