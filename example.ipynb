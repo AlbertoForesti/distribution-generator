{
 "cells": [
  {
   "cell_type": "code",
   "execution_count": 1,
   "metadata": {},
   "outputs": [],
   "source": [
    "from distribution_generator.distributions import get_rv\n",
    "# Import binomial rv\n",
    "from scipy.stats import binom\n",
    "\n",
    "import numpy as np\n",
    "\n",
    "\n",
    "def xy_map(x):\n",
    "    return [x,-x,3*x]"
   ]
  },
  {
   "cell_type": "code",
   "execution_count": 2,
   "metadata": {},
   "outputs": [
    {
     "name": "stderr",
     "output_type": "stream",
     "text": [
      "Best fitness: -7.588266480174077e-06: 100%|██████████| 300/300 [00:01<00:00, 179.61it/s] \n",
      "Best fitness: -7.588266480174077e-06: 100%|██████████| 300/300 [00:01<00:00, 194.51it/s] "
     ]
    },
    {
     "name": "stdout",
     "output_type": "stream",
     "text": [
      "[array([[0.00970874, 0.5175367 ],\n",
      "       [0.43234362, 0.04041094]])]\n",
      "0.4999924117335198\n"
     ]
    },
    {
     "name": "stderr",
     "output_type": "stream",
     "text": [
      "\n"
     ]
    }
   ],
   "source": [
    "mutinfo = 0.5\n",
    "\n",
    "xy_map = None\n",
    "\n",
    "dim = 2\n",
    "seq_length = 1\n",
    "\n",
    "noise_rv_x = binom(1,0.5)\n",
    "noise_rv_y = binom(1,0.5)\n",
    "\n",
    "noise_dimensions = 0\n",
    "\n",
    "rv = get_rv(mutinfo,dim=dim,seq_length=seq_length, n_generations=300, min_val=1e-2, noise_rv_x=noise_rv_x, noise_rv_y=noise_rv_y, xy_map=xy_map, noise_dimensions=noise_dimensions)\n",
    "# print(rv.joint_dist)\n",
    "rv2 = get_rv(mutinfo,dim=dim,seq_length=seq_length, n_generations=300, min_val=1e-2, noise_rv_x=noise_rv_x, noise_rv_y=noise_rv_y, xy_map=xy_map, noise_dimensions=noise_dimensions)\n",
    "x,y = rv2.rvs(size=10000)\n",
    "print(rv2.distributions)\n",
    "print(rv2.mutual_information)"
   ]
  },
  {
   "cell_type": "code",
   "execution_count": 3,
   "metadata": {},
   "outputs": [
    {
     "name": "stdout",
     "output_type": "stream",
     "text": [
      "4\n",
      "[[1]\n",
      " [0]\n",
      " [1]\n",
      " [2]\n",
      " [1]]\n",
      "(10000, 1)\n",
      "4\n",
      "[[2]\n",
      " [1]\n",
      " [2]\n",
      " [1]\n",
      " [0]]\n",
      "(10000, 1)\n"
     ]
    }
   ],
   "source": [
    "import numpy as np\n",
    "\n",
    "print(np.max(x))\n",
    "print(x[:5])\n",
    "print(x.shape)\n",
    "\n",
    "print(np.max(y))\n",
    "print(y[:5])\n",
    "print(y.shape)"
   ]
  },
  {
   "cell_type": "code",
   "execution_count": 4,
   "metadata": {},
   "outputs": [
    {
     "name": "stdout",
     "output_type": "stream",
     "text": [
      "(10000, 1)\n"
     ]
    }
   ],
   "source": [
    "print(x.shape)"
   ]
  },
  {
   "cell_type": "code",
   "execution_count": 5,
   "metadata": {},
   "outputs": [
    {
     "ename": "IndexError",
     "evalue": "index 2 is out of bounds for axis 1 with size 2",
     "output_type": "error",
     "traceback": [
      "\u001b[0;31m---------------------------------------------------------------------------\u001b[0m",
      "\u001b[0;31mIndexError\u001b[0m                                Traceback (most recent call last)",
      "Cell \u001b[0;32mIn[5], line 12\u001b[0m\n\u001b[1;32m      9\u001b[0m tot \u001b[38;5;241m=\u001b[39m \u001b[38;5;241m0\u001b[39m\n\u001b[1;32m     11\u001b[0m \u001b[38;5;28;01mfor\u001b[39;00m sample \u001b[38;5;129;01min\u001b[39;00m samples:\n\u001b[0;32m---> 12\u001b[0m     \u001b[43mgrid\u001b[49m\u001b[43m[\u001b[49m\u001b[43msample\u001b[49m\u001b[43m[\u001b[49m\u001b[38;5;241;43m0\u001b[39;49m\u001b[43m]\u001b[49m\u001b[43m,\u001b[49m\u001b[43msample\u001b[49m\u001b[43m[\u001b[49m\u001b[38;5;241;43m1\u001b[39;49m\u001b[43m]\u001b[49m\u001b[43m]\u001b[49m \u001b[38;5;241m+\u001b[39m\u001b[38;5;241m=\u001b[39m \u001b[38;5;241m1\u001b[39m\n\u001b[1;32m     13\u001b[0m     tot \u001b[38;5;241m+\u001b[39m\u001b[38;5;241m=\u001b[39m \u001b[38;5;241m1\u001b[39m\n\u001b[1;32m     15\u001b[0m \u001b[38;5;28mprint\u001b[39m(grid)\n",
      "\u001b[0;31mIndexError\u001b[0m: index 2 is out of bounds for axis 1 with size 2"
     ]
    }
   ],
   "source": [
    "import numpy as np\n",
    "from matplotlib import pyplot as plt\n",
    "\n",
    "# Count Occurrences of Each Sample\n",
    "\n",
    "samples = np.concatenate([x,y],axis=1)\n",
    "\n",
    "grid = np.array([[0,0],[0,0]])\n",
    "tot = 0\n",
    "\n",
    "for sample in samples:\n",
    "    grid[sample[0],sample[1]] += 1\n",
    "    tot += 1\n",
    "\n",
    "print(grid)\n",
    "\n",
    "plt.imshow(grid, cmap='hot', interpolation='nearest', origin='lower')"
   ]
  },
  {
   "cell_type": "code",
   "execution_count": 19,
   "metadata": {},
   "outputs": [
    {
     "name": "stdout",
     "output_type": "stream",
     "text": [
      "0.2590839288684114\n",
      "0.20072102883245946\n",
      "1.127210432251479\n"
     ]
    }
   ],
   "source": [
    "import numpy as np\n",
    "\n",
    "dist = np.array([[0.37513464, 0.24989916],\n",
    " [0.00970874, 0.36525746]])\n",
    "\n",
    "# compute kl with uniform distribution\n",
    "\n",
    "kl = np.sum(dist * np.log(dist / np.array([[0.25,0.25],[0.25,0.25]])))\n",
    "print(kl)\n",
    "\n",
    "# compute mutinfo\n",
    "px = np.sum(dist, axis=1)\n",
    "py = np.sum(dist, axis=0)\n",
    "mutinfo = 0\n",
    "for i in range(2):\n",
    "    for j in range(2):\n",
    "        mutinfo += dist[i,j] * np.log(dist[i,j] / (px[i] * py[j]))\n",
    "print(mutinfo)\n",
    "\n",
    "# compute entropy\n",
    "dist = dist.flatten()\n",
    "entropy = -np.sum(dist * np.log(dist))\n",
    "print(entropy)"
   ]
  },
  {
   "cell_type": "code",
   "execution_count": 20,
   "metadata": {},
   "outputs": [
    {
     "name": "stdout",
     "output_type": "stream",
     "text": [
      "1.7144210650734781\n"
     ]
    }
   ],
   "source": [
    "from scipy.stats import binom\n",
    "import numpy as np\n",
    "\n",
    "# Parameters for the binomial distribution\n",
    "n = 10  # number of trials\n",
    "p = 0.25  # probability of success\n",
    "\n",
    "# Create a binomial distribution\n",
    "binom_dist = binom(n, p)\n",
    "\n",
    "# Calculate the probabilities of each possible outcome\n",
    "probabilities = binom_dist.pmf(np.arange(n + 1))\n",
    "\n",
    "# Calculate the entropy\n",
    "entropy_binom = -np.sum(probabilities * np.log(probabilities))\n",
    "print(entropy_binom)"
   ]
  }
 ],
 "metadata": {
  "kernelspec": {
   "display_name": "base",
   "language": "python",
   "name": "python3"
  },
  "language_info": {
   "codemirror_mode": {
    "name": "ipython",
    "version": 3
   },
   "file_extension": ".py",
   "mimetype": "text/x-python",
   "name": "python",
   "nbconvert_exporter": "python",
   "pygments_lexer": "ipython3",
   "version": "3.12.2"
  }
 },
 "nbformat": 4,
 "nbformat_minor": 2
}
